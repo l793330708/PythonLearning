{
 "cells": [
  {
   "cell_type": "code",
   "execution_count": 1,
   "metadata": {},
   "outputs": [
    {
     "name": "stdout",
     "output_type": "stream",
     "text": [
      "[[0, 1], [1, 0], [0, 1], [0, 1], [0, 1], [1, 0], [0, 1], [1, 0], [0, 1], [0, 1], [1, 0], [0, 1], [1, 0], [0, 1], [1, 0], [1, 0], [1, 0], [1, 0], [1, 0], [1, 0], [1, 0], [1, 0], [0, 1], [1, 0], [1, 0], [0, 1], [0, 1], [1, 0], [1, 0], [0, 1], [1, 0], [1, 0], [0, 1], [1, 0], [1, 0], [0, 1], [0, 1], [0, 1], [0, 1], [0, 1], [1, 0], [1, 0], [0, 1], [1, 0], [1, 0], [0, 1], [1, 0], [1, 0], [0, 1], [0, 1], [0, 1], [0, 1], [0, 1], [0, 1], [1, 0], [1, 0], [0, 1], [1, 0], [0, 1], [1, 0], [1, 0], [1, 0], [0, 1], [0, 1], [0, 1], [1, 0], [1, 0], [0, 1], [0, 1], [0, 1], [0, 1], [1, 0], [0, 1], [1, 0], [0, 1], [0, 1], [1, 0], [1, 0], [1, 0], [1, 0], [0, 1], [1, 0], [0, 1], [1, 0], [1, 0], [1, 0], [1, 0], [0, 1], [1, 0], [1, 0], [1, 0], [0, 1], [0, 1], [1, 0], [1, 0], [1, 0], [0, 1], [1, 0], [0, 1], [0, 1]]\n"
     ]
    },
    {
     "data": {
      "text/plain": [
       "<Figure size 432x288 with 0 Axes>"
      ]
     },
     "metadata": {},
     "output_type": "display_data"
    },
    {
     "data": {
      "image/png": "[encoded data removed]",
      "text/plain": [
       "<Figure size 432x288 with 1 Axes>"
      ]
     },
     "metadata": {
      "needs_background": "light"
     },
     "output_type": "display_data"
    }
   ],
   "source": [
    "import numpy as np\n",
    "import matplotlib.pyplot as plt\n",
    "fr =open(\"E:/MLiA_SourceCode/machinelearninginaction/Ch05/testSet.txt\",\"r\")\n",
    "dots = []\n",
    "label = []\n",
    "for line in fr.readlines():\n",
    "    lineArr = line.strip().split()\n",
    "    tmp = [ float(item) for item in lineArr]\n",
    "    dots.append(tmp[:-1])\n",
    "    label.append(int(tmp[-1]))\n",
    "plt.figure()\n",
    "tmplabel =[]\n",
    "labels = []\n",
    "for elem in label:\n",
    "    tmplabel.append(elem)\n",
    "    tmplabel.append(0) if (elem ==1)  else tmplabel.append(1)\n",
    "    labels.append(tmplabel)\n",
    "    tmplabel = []\n",
    "print(labels)\n",
    "dots = np.array(dots)\n",
    "\n",
    "plt.figure()\n",
    "color = ['r', 'b']\n",
    "plt.scatter(dots[:,0], dots[:,1],  c=[color[0] if label[i]==0 else color[1] for i in range(len(label))]  )\n",
    "labels = np.array(labels)\n"
   ]
  },
  {
   "cell_type": "code",
   "execution_count": 3,
   "metadata": {},
   "outputs": [
    {
     "name": "stderr",
     "output_type": "stream",
     "text": [
      "<ipython-input-3-0f8ec95fd42f>:28: UserWarning: To copy construct from a tensor, it is recommended to use sourceTensor.clone().detach() or sourceTensor.clone().detach().requires_grad_(True), rather than torch.tensor(sourceTensor).\n",
      "  dots = torch.tensor(dots, dtype=torch.float32)\n",
      "<ipython-input-3-0f8ec95fd42f>:29: UserWarning: To copy construct from a tensor, it is recommended to use sourceTensor.clone().detach() or sourceTensor.clone().detach().requires_grad_(True), rather than torch.tensor(sourceTensor).\n",
      "  labels = torch.tensor(labels, dtype = torch.float32)\n"
     ]
    },
    {
     "name": "stdout",
     "output_type": "stream",
     "text": [
      "error Rate is 0.04\n",
      "torch.Size([50, 2]) Parameter containing:\n",
      "tensor([[ 0.8007, -0.2901],\n",
      "        [-0.5988, -0.2346],\n",
      "        [-0.3335,  0.2675],\n",
      "        [ 0.5038, -0.2782],\n",
      "        [-0.8639,  0.3248],\n",
      "        [ 0.2741,  0.2348],\n",
      "        [ 0.5760, -0.2756],\n",
      "        [-0.3427,  0.9987],\n",
      "        [-1.0296,  0.2804],\n",
      "        [ 1.0237,  0.2607],\n",
      "        [-0.7323, -0.2244],\n",
      "        [ 0.2987, -0.2176],\n",
      "        [-0.6893,  0.2880],\n",
      "        [ 0.3470, -0.2758],\n",
      "        [ 0.3405, -0.2564],\n",
      "        [ 0.2558,  0.2697],\n",
      "        [ 0.7701, -0.3342],\n",
      "        [-0.6468,  0.7890],\n",
      "        [-0.6427, -0.2304],\n",
      "        [-0.9395,  1.0410],\n",
      "        [ 0.6743, -0.2885],\n",
      "        [-0.5975,  0.7784],\n",
      "        [ 0.5557, -0.1987],\n",
      "        [-0.7956,  0.2818],\n",
      "        [ 0.2051,  0.7752],\n",
      "        [-0.8192,  1.0655],\n",
      "        [ 0.2931, -0.2775],\n",
      "        [-0.3968,  0.2026],\n",
      "        [-0.9099,  0.9889],\n",
      "        [ 0.5180,  0.2202],\n",
      "        [-0.8764,  0.9371],\n",
      "        [ 1.0432, -0.2826],\n",
      "        [-0.0085, -0.2777],\n",
      "        [ 0.2523,  0.2193],\n",
      "        [ 0.5173, -0.2060],\n",
      "        [-0.7723, -0.2417],\n",
      "        [-0.9554,  1.0727],\n",
      "        [-0.5986, -0.2393],\n",
      "        [-0.6557,  0.3044],\n",
      "        [-0.5454,  0.2680],\n",
      "        [ 0.2473,  0.2514],\n",
      "        [-0.7618,  0.2991],\n",
      "        [-0.6130,  1.0001],\n",
      "        [-0.7895,  0.2264],\n",
      "        [-0.5278,  0.2992],\n",
      "        [ 0.5708, -0.2988],\n",
      "        [ 0.7728,  0.2533],\n",
      "        [ 0.3764, -0.2710],\n",
      "        [-0.0629, -0.2434],\n",
      "        [-0.5177, -0.2122]], requires_grad=True)\n",
      "torch.Size([50]) Parameter containing:\n",
      "tensor([ 0.8346,  0.3145, -0.9570,  0.9649, -1.1870, -0.5867,  0.8705, -0.2530,\n",
      "        -0.3607,  0.0594, -0.0442,  0.2566, -0.9197,  1.0456,  0.8636, -1.0563,\n",
      "         0.7670,  0.6698,  0.1982,  0.6524,  0.9409,  0.5639, -0.2591, -0.7222,\n",
      "        -0.3598,  1.0399,  1.0884,  0.0651,  0.5550, -0.1757,  0.9828,  0.3894,\n",
      "         1.2308, -0.3559, -0.0417,  0.1825,  0.3029,  0.3925, -1.1595, -0.8008,\n",
      "        -0.8201, -0.9900,  0.8710,  0.0985, -1.2046,  1.1717, -0.3519,  0.9599,\n",
      "         0.7497,  0.0510], requires_grad=True)\n",
      "torch.Size([2, 50]) Parameter containing:\n",
      "tensor([[ 0.2756,  0.2624, -0.4888,  0.2360, -0.5031, -0.5193,  0.4483,  0.2263,\n",
      "         -0.4987, -0.5423,  0.4007,  0.3093, -0.4812,  0.4905,  0.5625, -0.2946,\n",
      "          0.2216,  0.4272,  0.2645,  0.3040,  0.4549,  0.3226,  0.2488, -0.4581,\n",
      "          0.0527,  0.4624,  0.3737, -0.5772,  0.5077, -0.3779,  0.4789,  0.2245,\n",
      "          0.5827, -0.5790,  0.5249,  0.3871,  0.4730,  0.3452, -0.2562, -0.4667,\n",
      "         -0.3851, -0.3998,  0.3550, -0.5195, -0.3198,  0.2695, -0.4385,  0.4790,\n",
      "          0.3546,  0.3644],\n",
      "        [-0.4350, -0.4104,  0.5199, -0.4155,  0.3884,  0.2993, -0.2779, -0.2254,\n",
      "          0.3411,  0.5014, -0.4292, -0.2699,  0.3218, -0.2894, -0.4181,  0.5206,\n",
      "         -0.1895, -0.4836, -0.2733, -0.5234, -0.2954, -0.3693, -0.2403,  0.3259,\n",
      "         -0.0338, -0.4065, -0.4596,  0.5630, -0.3466,  0.5320, -0.5215, -0.3335,\n",
      "         -0.3597,  0.5479, -0.4802, -0.2839, -0.4826, -0.3509,  0.4889,  0.4531,\n",
      "          0.5267,  0.5157, -0.2834,  0.4691,  0.4464, -0.4924,  0.4729, -0.2451,\n",
      "         -0.4549, -0.3163]], requires_grad=True)\n",
      "torch.Size([2]) Parameter containing:\n",
      "tensor([ 0.3180, -0.4304], requires_grad=True)\n"
     ]
    }
   ],
   "source": [
    "import torch\n",
    "import torch.nn as NN\n",
    "\n",
    "# class Classfifier(NN.Module):\n",
    "#     def __init__(self):\n",
    "#         super(Classfifier, self).__init__()\n",
    "#         self.fc1 = NN.Linear(2, 50)\n",
    "#         self.fc2 = NN.Linear(50, 1)\n",
    "#         self.ac_f = NN.Sigmoid()\n",
    "#         self.loss_fn = NN.MSELoss()\n",
    "#         self.optimizier = torch.optim.Adam()\n",
    "#     def forward(self, x):\n",
    "#         x = self.ac_f(self.fc1(x))\n",
    "#         x = self.ac_f(self.fc2(x))\n",
    "#         return x\n",
    "# dots = torch.from_numpy(dots)\n",
    "# label = torch.from_numpy(np.array(label))\n",
    "\n",
    "model = NN.Sequential(\n",
    "    NN.Linear(2, 50),\n",
    "    NN.Sigmoid(),\n",
    "    NN.Linear(50, 2),\n",
    "    NN.Sigmoid(),\n",
    "    NN.Softmax(dim=1)\n",
    ")\n",
    "optimizier = torch.optim.Adam(model.parameters(),lr = 1e-4)\n",
    "epoch = 5000\n",
    "dots = torch.tensor(dots, dtype=torch.float32)\n",
    "labels = torch.tensor(labels, dtype = torch.float32)\n",
    "\n",
    "loss_fn = NN.MSELoss()\n",
    "losses = []\n",
    "for i in range(epoch):\n",
    "    y_pred = model(dots)\n",
    "    loss = loss_fn(y_pred, labels)\n",
    "    losses.append(loss.item())\n",
    "    optimizier.zero_grad()\n",
    "    loss.backward()\n",
    "    optimizier.step()\n",
    "pred_tuple = (1 , 0)\n",
    "rs = torch.argmax(y_pred,dim=1)\n",
    "ec = 0\n",
    "for circle in range(y_pred.size()[0]):\n",
    "    if(pred_tuple[rs[circle].item()] != label[circle]):\n",
    "        ec = ec + 1\n",
    "#     print(pred_tuple[rs[circle].item()], label[circle])\n",
    "print(\"error Rate is {}\" .format(ec/len(label)))\n",
    "for para in model.parameters():\n",
    "    print(para.size(), para)\n",
    "# plt.scatter(dots[:,0], dots[:,1], c= [color[0] if label[i]==0 else color[1] for i in range(len(label))]  )\n"
   ]
  },
  {
   "cell_type": "code",
   "execution_count": 118,
   "metadata": {},
   "outputs": [
    {
     "name": "stdout",
     "output_type": "stream",
     "text": [
      "tensor([43, 85, 19, 45, 55, 48, 35, 41, 95, 15, 17, 59, 25, 45, 80, 53, 73, 29,\n",
      "        86, 92])\n"
     ]
    }
   ],
   "source": []
  },
  {
   "cell_type": "code",
   "execution_count": null,
   "metadata": {},
   "outputs": [],
   "source": []
  }
 ],
 "metadata": {
  "celltoolbar": "Raw Cell Format",
  "kernelspec": {
   "display_name": "Python 3",
   "language": "python",
   "name": "python3"
  },
  "language_info": {
   "codemirror_mode": {
    "name": "ipython",
    "version": 3
   },
   "file_extension": ".py",
   "mimetype": "text/x-python",
   "name": "python",
   "nbconvert_exporter": "python",
   "pygments_lexer": "ipython3",
   "version": "3.8.3"
  },
  "toc": {
   "base_numbering": 1,
   "nav_menu": {},
   "number_sections": true,
   "sideBar": true,
   "skip_h1_title": false,
   "title_cell": "Table of Contents",
   "title_sidebar": "Contents",
   "toc_cell": false,
   "toc_position": {},
   "toc_section_display": true,
   "toc_window_display": false
  }
 },
 "nbformat": 4,
 "nbformat_minor": 4
}
