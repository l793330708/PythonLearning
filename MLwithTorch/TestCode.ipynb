{
 "cells": [
  {
   "cell_type": "code",
   "execution_count": null,
   "metadata": {},
   "outputs": [],
   "source": [
    "#coding = utf-8\n",
    "import torch\n",
    "import torch.nn as nn\n",
    "from torch.autograd import Variable\n",
    "import torch.utils.data as Data\n",
    "import torchvision\n",
    "import matplotlib.pyplot as plt\n",
    "from torch import optim\n",
    "\n",
    "#parameters\n",
    "epochs = 2\n",
    "batch_size = 100\n",
    "lr = 0.01\n",
    "download_mnist = True\n",
    "\n",
    "train_data = torchvision.datasets.MNIST(\n",
    "    root='./minst_data',\n",
    "    train=True,\n",
    "    transform = torchvision.transforms.ToTensor(),\n",
    "    download=download_mnist\n",
    ")\n",
    "\n",
    "#plot one example\n",
    "# print(train_data.data.size())\n",
    "# print(train_data.targets.size())\n",
    "# plt.imshow(train_data.data[0].numpy(),cmap = 'gray')\n",
    "# plt.title('%i'%train_data.targets[0])\n",
    "# plt.show()\n",
    "\n",
    "train_loader =Data.DataLoader(dataset=train_data,batch_size=batch_size,shuffle=True)\n",
    "\n",
    "test_data = torchvision.datasets.MNIST(root='./minst_data',train=False)\n",
    "test_x = Variable(torch.unsqueeze(test_data.data,dim=1)).type(torch.FloatTensor)[:2000]/255.\n",
    "test_y = test_data.targets[:2000]\n",
    "\n",
    "class CNN(nn.Module):\n",
    "    def __init__(self):\n",
    "        super(CNN,self).__init__()\n",
    "        self.conv1 = nn.Sequential(\n",
    "            nn.Conv2d(    #(1,28,28)1是channel的维度，28*28为图片的长宽\n",
    "                in_channels=1,#图片的层数，RGB=3,灰度=1\n",
    "                out_channels=16,#filter的个数\n",
    "                kernel_size=5,#filter的长宽\n",
    "                stride=1,#每隔多少个移动\n",
    "                padding=2,#图片补0.if stride = 1,padding =(kernel_size-1)/2 = (5-1)/2 = 2\n",
    "            ),   #-->（16，28，28）\n",
    "            nn.ReLU(),#-->（16，28，28）\n",
    "            nn.MaxPool2d(kernel_size=2),#可以看成2*2的filter    #-->（16，14，14）kernel_size = 2,减小一半\n",
    "        )\n",
    "        self.conv2 = nn.Sequential(#-->（16，14，14）\n",
    "            nn.Conv2d(16,32,5,1,2),#-->（32，14，14）\n",
    "            nn.ReLU(),#-->（32，14，14）\n",
    "            nn.MaxPool2d(2)#-->（32，7，7）\n",
    "\n",
    "        )\n",
    "        self.out = nn.Linear(32*7*7,10)#输出为10类\n",
    "\n",
    "    def forward(self, x):\n",
    "        x = self.conv1(x)\n",
    "        x = self.conv2(x)   #-->(batch,32,7,7)\n",
    "        x = x.view(x.size(0),-1) #-->(batch,32*7*7)\n",
    "        output = self.out(x)\n",
    "        return output\n",
    "\n",
    "cnn = CNN()\n",
    "print(cnn)\n",
    "\n",
    "opimizer = optim.Adam(cnn.parameters(),lr=lr)\n",
    "\n",
    "loss_func = nn.CrossEntropyLoss()\n",
    "\n",
    "#train and test\n",
    "for epoch in range(epochs):\n",
    "    for step,(x,y) in enumerate(train_loader):\n",
    "        b_x = Variable(x)\n",
    "        b_y = Variable(y)\n",
    "\n",
    "        out = cnn(b_x)\n",
    "        loss = loss_func(out,b_y)\n",
    "        opimizer.zero_grad()\n",
    "        loss.backward()\n",
    "        opimizer.step()\n",
    "\n",
    "        if step % 50 == 0:\n",
    "            test_out = cnn(test_x)\n",
    "            pred_y = torch.max(test_out,1)[1].data.squeeze()\n",
    "            accuracy = sum(pred_y == test_y)/ test_y.size\n",
    "            print('Epoch:',epoch,'|train loss:'+str(loss.item()),'|test accuracy:'+str(accuracy))"
   ]
  },
  {
   "cell_type": "code",
   "execution_count": 16,
   "metadata": {},
   "outputs": [
    {
     "data": {
      "text/plain": [
       "[<matplotlib.lines.Line2D at 0x2234ec4be80>]"
      ]
     },
     "execution_count": 16,
     "metadata": {},
     "output_type": "execute_result"
    },
    {
     "data": {
      "image/png": "[encoded data removed]",
      "text/plain": [
       "<Figure size 432x288 with 4 Axes>"
      ]
     },
     "metadata": {
      "needs_background": "light"
     },
     "output_type": "display_data"
    }
   ],
   "source": [
    "import matplotlib.pyplot as plt\n",
    "import numpy as np\n",
    "array_a = np.linspace(0 , 5, 5)\n",
    "array_b = np.linspace(0 , 5, 15)\n",
    "plt.figure()\n",
    "plt.subplot(221)\n",
    "plt.axis([0,20,0,10])\n",
    "plt.plot(array_a,\"m--\")\n",
    "plt.plot(array_b,\"rv\")\n",
    "plt.subplot(222)\n",
    "plt.plot([1,10,20,30])\n",
    "plt.subplot(223)\n",
    "plt.plot([20,30,40,50],\"b^\")\n",
    "plt.subplot(224)\n",
    "plt.plot([0,1,2,8],\"gx\")"
   ]
  },
  {
   "cell_type": "code",
   "execution_count": null,
   "metadata": {},
   "outputs": [],
   "source": []
  }
 ],
 "metadata": {
  "kernelspec": {
   "display_name": "Python 3",
   "language": "python",
   "name": "python3"
  },
  "language_info": {
   "codemirror_mode": {
    "name": "ipython",
    "version": 3
   },
   "file_extension": ".py",
   "mimetype": "text/x-python",
   "name": "python",
   "nbconvert_exporter": "python",
   "pygments_lexer": "ipython3",
   "version": "3.8.3"
  },
  "toc": {
   "base_numbering": 1,
   "nav_menu": {},
   "number_sections": true,
   "sideBar": true,
   "skip_h1_title": false,
   "title_cell": "Table of Contents",
   "title_sidebar": "Contents",
   "toc_cell": false,
   "toc_position": {},
   "toc_section_display": true,
   "toc_window_display": false
  }
 },
 "nbformat": 4,
 "nbformat_minor": 4
}
